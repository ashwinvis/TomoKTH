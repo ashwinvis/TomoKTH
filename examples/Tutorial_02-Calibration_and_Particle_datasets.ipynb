{
 "cells": [
  {
   "cell_type": "code",
   "execution_count": 1,
   "metadata": {
    "collapsed": true
   },
   "outputs": [],
   "source": [
    "from tomokth.dataset import CalibrationData, ParticleData"
   ]
  },
  {
   "cell_type": "markdown",
   "metadata": {},
   "source": [
    "## Calibration Data"
   ]
  },
  {
   "cell_type": "code",
   "execution_count": 2,
   "metadata": {
    "collapsed": false
   },
   "outputs": [
    {
     "name": "stdout",
     "output_type": "stream",
     "text": [
      "/home/avmo/src/PIV/TomoKTH/examples/assignment/calibration_images\n"
     ]
    }
   ],
   "source": [
    "cd assignment/calibration_images/"
   ]
  },
  {
   "cell_type": "code",
   "execution_count": 3,
   "metadata": {
    "collapsed": true
   },
   "outputs": [],
   "source": [
    "cdata = CalibrationData()\n",
    "cdata.config()\n",
    "cdata.create_h5()"
   ]
  },
  {
   "cell_type": "markdown",
   "metadata": {},
   "source": [
    "The object cdata now manages all the calibration images. The images are converted to arrays into a file called `calibration.h5`. A HDF5 file can be opened using the utility [HDFview](https://www.hdfgroup.org/products/java/hdfview/). Data is arranged in the following hierarchy:"
   ]
  },
  {
   "cell_type": "code",
   "execution_count": 6,
   "metadata": {
    "collapsed": false
   },
   "outputs": [
    {
     "name": "stdout",
     "output_type": "stream",
     "text": [
      "{\n",
      "    \"cam3\": [\n",
      "        \"-3mm_cam3.tif\", \n",
      "        \"-6mm_cam3.tif\", \n",
      "        \"0mm_cam3.tif\", \n",
      "        \"3mm_cam3.tif\", \n",
      "        \"6mm_cam3.tif\"\n",
      "    ], \n",
      "    \"cam2\": [\n",
      "        \"-3mm_cam2.tif\", \n",
      "        \"-6mm_cam2.tif\", \n",
      "        \"0mm_cam2.tif\", \n",
      "        \"3mm_cam2.tif\", \n",
      "        \"6mm_cam2.tif\"\n",
      "    ], \n",
      "    \"cam1\": [\n",
      "        \"-3mm_cam1.tif\", \n",
      "        \"-6mm_cam1.tif\", \n",
      "        \"0mm_cam1.tif\", \n",
      "        \"3mm_cam1.tif\", \n",
      "        \"6mm_cam1.tif\"\n",
      "    ], \n",
      "    \"cam0\": [\n",
      "        \"-3mm_cam0.tif\", \n",
      "        \"-6mm_cam0.tif\", \n",
      "        \"0mm_cam0.tif\", \n",
      "        \"3mm_cam0.tif\", \n",
      "        \"6mm_cam0.tif\"\n",
      "    ]\n",
      "}\n"
     ]
    }
   ],
   "source": [
    "import json\n",
    "print json.dumps(cdata.h5dict, indent=4) #Json used to print cdata.h5dict neatly"
   ]
  },
  {
   "cell_type": "markdown",
   "metadata": {},
   "source": [
    "#### To retrieve a specific calibration image, from the HDF5 file, as a numpy array:"
   ]
  },
  {
   "cell_type": "code",
   "execution_count": 9,
   "metadata": {
    "collapsed": false,
    "scrolled": true
   },
   "outputs": [
    {
     "data": {
      "text/plain": [
       "array([[0, 0, 0, ..., 0, 0, 0],\n",
       "       [0, 0, 0, ..., 0, 0, 0],\n",
       "       [0, 0, 0, ..., 0, 0, 0],\n",
       "       ..., \n",
       "       [0, 0, 0, ..., 0, 0, 0],\n",
       "       [0, 0, 0, ..., 0, 0, 0],\n",
       "       [0, 0, 0, ..., 0, 0, 0]], dtype=uint16)"
      ]
     },
     "execution_count": 9,
     "metadata": {},
     "output_type": "execute_result"
    }
   ],
   "source": [
    "arr = cdata.get_dset(camera=0, z_loc=-6) #Note: It returns a numpy array, not a h5py dataset!\n",
    "print arr"
   ]
  },
  {
   "cell_type": "markdown",
   "metadata": {},
   "source": [
    "#### To retrieve a group of datasets by specifying just the camera:"
   ]
  },
  {
   "cell_type": "code",
   "execution_count": 11,
   "metadata": {
    "collapsed": false
   },
   "outputs": [
    {
     "name": "stdout",
     "output_type": "stream",
     "text": [
      "<HDF5 group \"/cam0\" (5 members)>\n"
     ]
    }
   ],
   "source": [
    "grp = cdata.get_camera_grp(camera=0)\n",
    "print grp"
   ]
  },
  {
   "cell_type": "markdown",
   "metadata": {},
   "source": [
    "#### To iterate through the group use:\n",
    "Note that the group and the datasets have attributes stored in them."
   ]
  },
  {
   "cell_type": "code",
   "execution_count": 16,
   "metadata": {
    "collapsed": false
   },
   "outputs": [
    {
     "name": "stdout",
     "output_type": "stream",
     "text": [
      "Group attributes =  [u'cam'] 0\n",
      "<HDF5 dataset \"-3mm_cam0.tif\": shape (500, 504), type \"<u2\">\n",
      "Dataset attributes =  [u'cam', u'z'] 0 -3\n",
      "[[0 0 0 ..., 0 0 0]\n",
      " [0 0 0 ..., 0 0 0]\n",
      " [0 0 0 ..., 0 0 0]\n",
      " ..., \n",
      " [0 0 0 ..., 0 0 0]\n",
      " [0 0 0 ..., 0 0 0]\n",
      " [0 0 0 ..., 0 0 0]]\n",
      "<HDF5 dataset \"-6mm_cam0.tif\": shape (500, 504), type \"<u2\">\n",
      "Dataset attributes =  [u'cam', u'z'] 0 -6\n",
      "[[0 0 0 ..., 0 0 0]\n",
      " [0 0 0 ..., 0 0 0]\n",
      " [0 0 0 ..., 0 0 0]\n",
      " ..., \n",
      " [0 0 0 ..., 0 0 0]\n",
      " [0 0 0 ..., 0 0 0]\n",
      " [0 0 0 ..., 0 0 0]]\n",
      "<HDF5 dataset \"0mm_cam0.tif\": shape (500, 504), type \"<u2\">\n",
      "Dataset attributes =  [u'cam', u'z'] 0 0\n",
      "[[0 0 0 ..., 0 0 0]\n",
      " [0 0 0 ..., 0 0 0]\n",
      " [0 0 0 ..., 0 0 0]\n",
      " ..., \n",
      " [0 0 0 ..., 0 0 0]\n",
      " [0 0 0 ..., 0 0 0]\n",
      " [0 0 0 ..., 0 0 0]]\n",
      "<HDF5 dataset \"3mm_cam0.tif\": shape (500, 504), type \"<u2\">\n",
      "Dataset attributes =  [u'cam', u'z'] 0 3\n",
      "[[0 0 0 ..., 0 0 0]\n",
      " [0 0 0 ..., 0 0 0]\n",
      " [0 0 0 ..., 0 0 0]\n",
      " ..., \n",
      " [0 0 0 ..., 0 0 0]\n",
      " [0 0 0 ..., 0 0 0]\n",
      " [0 0 0 ..., 0 0 0]]\n",
      "<HDF5 dataset \"6mm_cam0.tif\": shape (500, 504), type \"<u2\">\n",
      "Dataset attributes =  [u'cam', u'z'] 0 6\n",
      "[[0 0 0 ..., 0 0 0]\n",
      " [0 0 0 ..., 0 0 0]\n",
      " [0 0 0 ..., 0 0 0]\n",
      " ..., \n",
      " [0 0 0 ..., 0 0 0]\n",
      " [0 0 0 ..., 0 0 0]\n",
      " [0 0 0 ..., 0 0 0]]\n"
     ]
    }
   ],
   "source": [
    "print 'Group attributes = ', grp.attrs.keys(), grp.attrs['cam']\n",
    "\n",
    "for dset in grp.values():\n",
    "    print dset\n",
    "    print 'Dataset attributes = ', dset.attrs.keys(), dset.attrs['cam'], dset.attrs['z']\n",
    "    arr = dset[...]\n",
    "    print arr"
   ]
  },
  {
   "cell_type": "markdown",
   "metadata": {},
   "source": [
    "## Particle Data"
   ]
  },
  {
   "cell_type": "code",
   "execution_count": 17,
   "metadata": {
    "collapsed": false
   },
   "outputs": [
    {
     "name": "stdout",
     "output_type": "stream",
     "text": [
      "/home/avmo/src/PIV/TomoKTH/examples/assignment/particle_images\n"
     ]
    }
   ],
   "source": [
    "cd ../particle_images/"
   ]
  },
  {
   "cell_type": "code",
   "execution_count": 18,
   "metadata": {
    "collapsed": true
   },
   "outputs": [],
   "source": [
    "pdata = ParticleData()\n",
    "pdata.config()\n",
    "pdata.create_h5()"
   ]
  },
  {
   "cell_type": "markdown",
   "metadata": {},
   "source": [
    "The object cdata now manages all the particle images. The images are converted to arrays into a file called `particle.h5`. "
   ]
  },
  {
   "cell_type": "markdown",
   "metadata": {},
   "source": [
    "#### ParticleData object also behaves similarly as a CalibrationData object. \n",
    "Note that the attributes are slightly different, hence the arguments for the function `get_dset` has slightly changed"
   ]
  },
  {
   "cell_type": "code",
   "execution_count": 22,
   "metadata": {
    "collapsed": false
   },
   "outputs": [],
   "source": [
    "arr = pdata.get_dset(camera=0, ab='a', time=47)"
   ]
  },
  {
   "cell_type": "code",
   "execution_count": 23,
   "metadata": {
    "collapsed": true
   },
   "outputs": [],
   "source": [
    "grp = pdata.get_camera_grp(camera=0)"
   ]
  },
  {
   "cell_type": "code",
   "execution_count": null,
   "metadata": {
    "collapsed": true
   },
   "outputs": [],
   "source": []
  }
 ],
 "metadata": {
  "kernelspec": {
   "display_name": "Python 2",
   "language": "python2",
   "name": "python2"
  },
  "language_info": {
   "codemirror_mode": {
    "name": "ipython",
    "version": 2
   },
   "file_extension": ".py",
   "mimetype": "text/x-python",
   "name": "python",
   "nbconvert_exporter": "python",
   "pygments_lexer": "ipython2",
   "version": "2.7.12"
  }
 },
 "nbformat": 4,
 "nbformat_minor": 0
}
